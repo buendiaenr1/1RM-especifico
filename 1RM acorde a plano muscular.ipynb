{
 "cells": [
  {
   "cell_type": "markdown",
   "metadata": {},
   "source": [
    "# 1RM especifico  \n",
    "### Autor: Enrique R.P. Buendia Lozada\n",
    "#### FUERZA "
   ]
  },
  {
   "cell_type": "code",
   "execution_count": 17,
   "metadata": {},
   "outputs": [],
   "source": [
    "# vector de ajuste de porcentajes especificos a 10 divisiones del máximo registrado por persona\n",
    "vec_normal<- c()\n",
    "vec_normal<-c(0,0.01148938,0.01720406,0.17390075,0.19012909,0.55477443,0.19012909,0.17390075,0.01720406,0.01148938)\n",
    "# el numero 0.55477443 representaría la intensidad media\n",
    "# el cero corresponde a la máxima intensidad del esfuerzo\n",
    "\n",
    "#print(vec_normal[1])\n",
    "# indice de cada porcentaje especifico\n",
    "i<-1:length(vec_normal)-1\n"
   ]
  },
  {
   "cell_type": "code",
   "execution_count": 21,
   "metadata": {},
   "outputs": [
    {
     "data": {
      "text/html": [
       "<table>\n",
       "<caption>A data.frame: 4 × 2</caption>\n",
       "<thead>\n",
       "\t<tr><th></th><th scope=col>peso</th><th scope=col>rep</th></tr>\n",
       "\t<tr><th></th><th scope=col>&lt;int&gt;</th><th scope=col>&lt;int&gt;</th></tr>\n",
       "</thead>\n",
       "<tbody>\n",
       "\t<tr><th scope=row>1</th><td>39</td><td>4</td></tr>\n",
       "\t<tr><th scope=row>2</th><td>43</td><td>3</td></tr>\n",
       "\t<tr><th scope=row>3</th><td>43</td><td>8</td></tr>\n",
       "\t<tr><th scope=row>4</th><td>43</td><td>5</td></tr>\n",
       "</tbody>\n",
       "</table>\n"
      ],
      "text/latex": [
       "A data.frame: 4 × 2\n",
       "\\begin{tabular}{r|ll}\n",
       "  & peso & rep\\\\\n",
       "  & <int> & <int>\\\\\n",
       "\\hline\n",
       "\t1 & 39 & 4\\\\\n",
       "\t2 & 43 & 3\\\\\n",
       "\t3 & 43 & 8\\\\\n",
       "\t4 & 43 & 5\\\\\n",
       "\\end{tabular}\n"
      ],
      "text/markdown": [
       "\n",
       "A data.frame: 4 × 2\n",
       "\n",
       "| <!--/--> | peso &lt;int&gt; | rep &lt;int&gt; |\n",
       "|---|---|---|\n",
       "| 1 | 39 | 4 |\n",
       "| 2 | 43 | 3 |\n",
       "| 3 | 43 | 8 |\n",
       "| 4 | 43 | 5 |\n",
       "\n"
      ],
      "text/plain": [
       "  peso rep\n",
       "1 39   4  \n",
       "2 43   3  \n",
       "3 43   8  \n",
       "4 43   5  "
      ]
     },
     "metadata": {},
     "output_type": "display_data"
    },
    {
     "name": "stdout",
     "output_type": "stream",
     "text": [
      "Tamaño de la muestra:  4"
     ]
    }
   ],
   "source": [
    "# leer archivo de datos de peso cargado maximo sin cometer errores\n",
    "# sin modificar la técnica (peso)\n",
    "# en la repetición donde ya cometió el error  o no pudo realizar el movimiento (rep)\n",
    "dat<- read.csv(\"ejer4.csv\")\n",
    "head(dat)\n",
    "n1=nrow(dat)\n",
    "cat(\"Tamaño de la muestra: \",n1)  #### tamaño de la muestra"
   ]
  },
  {
   "cell_type": "code",
   "execution_count": 22,
   "metadata": {},
   "outputs": [
    {
     "name": "stdout",
     "output_type": "stream",
     "text": [
      "peso para intensidad estimada :  39 35.1 31.2 27.3 23.4 19.5 15.6 11.7 7.8 3.9 43 38.7 34.4 30.1 25.8 21.5 17.2 12.9 8.6 4.3 43 38.7 34.4 30.1 25.8 21.5 17.2 12.9 8.6 4.3 43 38.7 34.4 30.1 25.8 21.5 17.2 12.9 8.6 4.3 \n",
      "rep para intensidad estimada  :  4 3.6 3.2 2.8 2.4 2 1.6 1.2 0.8 0.4 3 2.7 2.4 2.1 1.8 1.5 1.2 0.9 0.6 0.3 8 7.2 6.4 5.6 4.8 4 3.2 2.4 1.6 0.8 5 4.5 4 3.5 3 2.5 2 1.5 1 0.5 \n",
      "peso estimado para intensidad : 39 35.11149 31.2172 27.4739 23.59013 20.05477 15.79013 11.8739 7.817204 3.911489 43 38.71149 34.4172 30.2739 25.99013 22.05477 17.39013 13.0739 8.617204 4.311489 43 38.71149 34.4172 30.2739 25.99013 22.05477 17.39013 13.0739 8.617204 4.311489 43 38.71149 34.4172 30.2739 25.99013 22.05477 17.39013 13.0739 8.617204 4.311489 \n",
      "diferencias entre peso real y estimado : 0 -0.01148938 -0.01720406 -0.1739008 -0.1901291 -0.5547744 -0.1901291 -0.1739007 -0.01720406 -0.01148938 0 -0.01148938 -0.01720406 -0.1739008 -0.1901291 -0.5547744 -0.1901291 -0.1739007 -0.01720406 -0.01148938 0 -0.01148938 -0.01720406 -0.1739008 -0.1901291 -0.5547744 -0.1901291 -0.1739007 -0.01720406 -0.01148938 0 -0.01148938 -0.01720406 -0.1739008 -0.1901291 -0.5547744 -0.1901291 -0.1739007 -0.01720406 -0.01148938"
     ]
    }
   ],
   "source": [
    "# construcción de pesos,repeticiones por porcentaje objetivo de peso\n",
    "# correspondientes a la intensidad\n",
    "v1<-c() # peso por intensidad\n",
    "v2<-c() # estimado de repeticiones por intensidad\n",
    "v3<-c() # estimado de peso por repeticiones\n",
    "cont=1\n",
    "di=1\n",
    "for (p in 1:n1){\n",
    "for (j in i){\n",
    "        v1<-c(v1,dat[p,1]-dat[p,1]/10*j)\n",
    "        v2<-c(v2,dat[p,2]-dat[p,2]/10*j)\n",
    "        v3<-c(v3,v1[cont]+vec_normal[di])\n",
    "        cont=cont+1\n",
    "        di=di+1\n",
    "}\n",
    "    di=1\n",
    "}\n",
    "cat(\"peso para intensidad estimada : \",v1,\"\\n\")\n",
    "\n",
    "cat(\"rep para intensidad estimada  : \",v2,\"\\n\")\n",
    "cat(\"peso estimado para intensidad :\",v3,\"\\n\")\n",
    "cat(\"diferencias entre peso real y estimado :\",v1-v3)"
   ]
  },
  {
   "cell_type": "markdown",
   "metadata": {},
   "source": [
    "#### Crear nuevo modelo"
   ]
  },
  {
   "cell_type": "code",
   "execution_count": 23,
   "metadata": {},
   "outputs": [],
   "source": [
    "# convertir los vectores a data frame\n",
    "datos=data.frame(peso=v1,int=v2,sug=v3)"
   ]
  },
  {
   "cell_type": "code",
   "execution_count": 24,
   "metadata": {},
   "outputs": [
    {
     "data": {
      "text/plain": [
       "\n",
       "Call:\n",
       "lm(formula = sug ~ int + peso, data = datos)\n",
       "\n",
       "Residuals:\n",
       "     Min       1Q   Median       3Q      Max \n",
       "-0.15936 -0.09973 -0.03690  0.05276  0.41808 \n",
       "\n",
       "Coefficients:\n",
       "             Estimate Std. Error t value Pr(>|t|)    \n",
       "(Intercept) 0.1783589  0.0566972   3.146  0.00326 ** \n",
       "int         0.0003734  0.0233423   0.016  0.98732    \n",
       "peso        0.9980362  0.0035590 280.426  < 2e-16 ***\n",
       "---\n",
       "Signif. codes:  0 '***' 0.001 '**' 0.01 '*' 0.05 '.' 0.1 ' ' 1\n",
       "\n",
       "Residual standard error: 0.1665 on 37 degrees of freedom\n",
       "Multiple R-squared:  0.9998,\tAdjusted R-squared:  0.9998 \n",
       "F-statistic: 1.054e+05 on 2 and 37 DF,  p-value: < 2.2e-16\n"
      ]
     },
     "metadata": {},
     "output_type": "display_data"
    }
   ],
   "source": [
    "# crear el modelo matemático que define este comportamiento\n",
    "fit<-lm(sug ~ int + peso, data=datos)\n",
    "summary(fit)"
   ]
  },
  {
   "cell_type": "code",
   "execution_count": 25,
   "metadata": {},
   "outputs": [
    {
     "data": {
      "text/html": [
       "'Y = 0.178358921648749 + 0.000373397654834671 * int + 0.998036204926427 * peso + e'"
      ],
      "text/latex": [
       "'Y = 0.178358921648749 + 0.000373397654834671 * int + 0.998036204926427 * peso + e'"
      ],
      "text/markdown": [
       "'Y = 0.178358921648749 + 0.000373397654834671 * int + 0.998036204926427 * peso + e'"
      ],
      "text/plain": [
       "[1] \"Y = 0.178358921648749 + 0.000373397654834671 * int + 0.998036204926427 * peso + e\""
      ]
     },
     "metadata": {},
     "output_type": "display_data"
    }
   ],
   "source": [
    "# El modelo mostrarlo en forma conocida\n",
    "cc <- fit$coefficients\n",
    "(eqn <- paste(\"Y =\", paste(cc[1], paste(cc[-1], names(cc[-1]), sep=\" * \", collapse=\" + \"), sep=\" + \"), \"+ e\"))"
   ]
  },
  {
   "cell_type": "markdown",
   "metadata": {},
   "source": [
    "#### Comparar modelo nuevo contra Brsiky"
   ]
  },
  {
   "cell_type": "code",
   "execution_count": 26,
   "metadata": {},
   "outputs": [
    {
     "name": "stdout",
     "output_type": "stream",
     "text": [
      "Datos estimados por el nuevo modelo:  39.10326 43.09504 43.0969 43.09578 \n",
      "Datos estimados por la ecuación de Brsiky:  42.54855 45.53155 53.38962 48.37984 \n"
     ]
    }
   ],
   "source": [
    "datorigen<-data.frame(peso=dat$peso,int=dat$rep)\n",
    "#datorigen\n",
    "maximaz<-predict(fit,datorigen) # peso maximo estimado\n",
    "cat(\"Datos estimados por el nuevo modelo: \",maximaz,\"\\n\")\n",
    "br<-datorigen$peso/(1.0278-(0.0278*datorigen$int)) # formula de Brsiky\n",
    "cat(\"Datos estimados por la ecuación de Brsiky: \",br,\"\\n\")\n",
    "\n"
   ]
  },
  {
   "cell_type": "markdown",
   "metadata": {},
   "source": [
    "### Zonas de entrenamiento"
   ]
  },
  {
   "cell_type": "code",
   "execution_count": 27,
   "metadata": {},
   "outputs": [
    {
     "name": "stdout",
     "output_type": "stream",
     "text": [
      "Peso   zona%\n",
      "39    100  % \n",
      "35.1    90  % \n",
      "31.2    80  % \n",
      "27.3    70  % \n",
      "23.4    60  % \n",
      "19.5    50  % \n",
      "15.6    40  % \n",
      "11.7    30  % \n",
      "7.8    20  % \n",
      "3.9    10  % \n",
      "\n",
      "Peso   zona%\n",
      "43    100  % \n",
      "38.7    90  % \n",
      "34.4    80  % \n",
      "30.1    70  % \n",
      "25.8    60  % \n",
      "21.5    50  % \n",
      "17.2    40  % \n",
      "12.9    30  % \n",
      "8.6    20  % \n",
      "4.3    10  % \n",
      "\n",
      "Peso   zona%\n",
      "43    100  % \n",
      "38.7    90  % \n",
      "34.4    80  % \n",
      "30.1    70  % \n",
      "25.8    60  % \n",
      "21.5    50  % \n",
      "17.2    40  % \n",
      "12.9    30  % \n",
      "8.6    20  % \n",
      "4.3    10  % \n",
      "\n",
      "Peso   zona%\n",
      "43    100  % \n",
      "38.7    90  % \n",
      "34.4    80  % \n",
      "30.1    70  % \n",
      "25.8    60  % \n",
      "21.5    50  % \n",
      "17.2    40  % \n",
      "12.9    30  % \n",
      "8.6    20  % \n",
      "4.3    10  % \n",
      "\n",
      "Peso   zona%\n"
     ]
    }
   ],
   "source": [
    "# zonas porcentuales para entrenamiento\n",
    "po<-100\n",
    "cat(\"Peso   zona%\\n\")\n",
    "for (zz in 1:length(v1)){\n",
    "       if(zz %% 10 !=0){\n",
    "        cat(v1[zz],\"  \",po,\" % \\n\")\n",
    "           po=po-10\n",
    "       }\n",
    "       else{\n",
    "           cat(v1[zz],\"  \",po,\" % \\n\\n\")\n",
    "           cat(\"Peso   zona%\\n\")\n",
    "           po=100\n",
    "       }\n",
    "    }"
   ]
  },
  {
   "cell_type": "code",
   "execution_count": null,
   "metadata": {},
   "outputs": [],
   "source": []
  },
  {
   "cell_type": "code",
   "execution_count": null,
   "metadata": {},
   "outputs": [],
   "source": []
  }
 ],
 "metadata": {
  "kernelspec": {
   "display_name": "R",
   "language": "R",
   "name": "ir"
  },
  "language_info": {
   "codemirror_mode": "r",
   "file_extension": ".r",
   "mimetype": "text/x-r-source",
   "name": "R",
   "pygments_lexer": "r",
   "version": "3.6.1"
  }
 },
 "nbformat": 4,
 "nbformat_minor": 4
}
